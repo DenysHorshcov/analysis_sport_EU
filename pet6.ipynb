{
 "cells": [
  {
   "cell_type": "code",
   "execution_count": 1,
   "id": "49d6f9a4",
   "metadata": {},
   "outputs": [],
   "source": [
    "import pandas as pd"
   ]
  },
  {
   "cell_type": "markdown",
   "id": "ac7a903d",
   "metadata": {},
   "source": [
    "аналіз залученості населення Європи до спорту (вподобання та причини)"
   ]
  },
  {
   "cell_type": "code",
   "execution_count": 2,
   "id": "50abc3f4",
   "metadata": {},
   "outputs": [
    {
     "data": {
      "text/html": [
       "<div>\n",
       "<style scoped>\n",
       "    .dataframe tbody tr th:only-of-type {\n",
       "        vertical-align: middle;\n",
       "    }\n",
       "\n",
       "    .dataframe tbody tr th {\n",
       "        vertical-align: top;\n",
       "    }\n",
       "\n",
       "    .dataframe thead th {\n",
       "        text-align: right;\n",
       "    }\n",
       "</style>\n",
       "<table border=\"1\" class=\"dataframe\">\n",
       "  <thead>\n",
       "    <tr style=\"text-align: right;\">\n",
       "      <th></th>\n",
       "      <th>studyno1</th>\n",
       "      <th>studyno2</th>\n",
       "      <th>doi</th>\n",
       "      <th>version</th>\n",
       "      <th>edition</th>\n",
       "      <th>survey</th>\n",
       "      <th>respondent_serial</th>\n",
       "      <th>serialid</th>\n",
       "      <th>uniqid</th>\n",
       "      <th>tnscntry</th>\n",
       "      <th>...</th>\n",
       "      <th>w9</th>\n",
       "      <th>w10</th>\n",
       "      <th>w11</th>\n",
       "      <th>w85</th>\n",
       "      <th>w86</th>\n",
       "      <th>w13</th>\n",
       "      <th>w94</th>\n",
       "      <th>w14</th>\n",
       "      <th>w22</th>\n",
       "      <th>w92</th>\n",
       "    </tr>\n",
       "  </thead>\n",
       "  <tbody>\n",
       "    <tr>\n",
       "      <th>0</th>\n",
       "      <td>7888</td>\n",
       "      <td>7888</td>\n",
       "      <td>doi:10.4232/1.14055</td>\n",
       "      <td>1.0.0 (2022-12-21)</td>\n",
       "      <td>1</td>\n",
       "      <td>973</td>\n",
       "      <td>6</td>\n",
       "      <td>1</td>\n",
       "      <td>20000001</td>\n",
       "      <td>2</td>\n",
       "      <td>...</td>\n",
       "      <td>NaN</td>\n",
       "      <td>0.830778</td>\n",
       "      <td>0.274903</td>\n",
       "      <td>0.353595</td>\n",
       "      <td>NaN</td>\n",
       "      <td>NaN</td>\n",
       "      <td>NaN</td>\n",
       "      <td>0.373504</td>\n",
       "      <td>0.383012</td>\n",
       "      <td>0.394492</td>\n",
       "    </tr>\n",
       "    <tr>\n",
       "      <th>1</th>\n",
       "      <td>7888</td>\n",
       "      <td>7888</td>\n",
       "      <td>doi:10.4232/1.14055</td>\n",
       "      <td>1.0.0 (2022-12-21)</td>\n",
       "      <td>1</td>\n",
       "      <td>973</td>\n",
       "      <td>12</td>\n",
       "      <td>2</td>\n",
       "      <td>20000002</td>\n",
       "      <td>2</td>\n",
       "      <td>...</td>\n",
       "      <td>NaN</td>\n",
       "      <td>0.830519</td>\n",
       "      <td>0.274817</td>\n",
       "      <td>0.353484</td>\n",
       "      <td>NaN</td>\n",
       "      <td>NaN</td>\n",
       "      <td>NaN</td>\n",
       "      <td>0.373387</td>\n",
       "      <td>0.382892</td>\n",
       "      <td>0.394369</td>\n",
       "    </tr>\n",
       "    <tr>\n",
       "      <th>2</th>\n",
       "      <td>7888</td>\n",
       "      <td>7888</td>\n",
       "      <td>doi:10.4232/1.14055</td>\n",
       "      <td>1.0.0 (2022-12-21)</td>\n",
       "      <td>1</td>\n",
       "      <td>973</td>\n",
       "      <td>18</td>\n",
       "      <td>3</td>\n",
       "      <td>20000003</td>\n",
       "      <td>2</td>\n",
       "      <td>...</td>\n",
       "      <td>NaN</td>\n",
       "      <td>0.714949</td>\n",
       "      <td>0.236575</td>\n",
       "      <td>0.304296</td>\n",
       "      <td>NaN</td>\n",
       "      <td>NaN</td>\n",
       "      <td>NaN</td>\n",
       "      <td>0.321429</td>\n",
       "      <td>0.329612</td>\n",
       "      <td>0.339491</td>\n",
       "    </tr>\n",
       "    <tr>\n",
       "      <th>3</th>\n",
       "      <td>7888</td>\n",
       "      <td>7888</td>\n",
       "      <td>doi:10.4232/1.14055</td>\n",
       "      <td>1.0.0 (2022-12-21)</td>\n",
       "      <td>1</td>\n",
       "      <td>973</td>\n",
       "      <td>23</td>\n",
       "      <td>4</td>\n",
       "      <td>20000004</td>\n",
       "      <td>2</td>\n",
       "      <td>...</td>\n",
       "      <td>NaN</td>\n",
       "      <td>0.904568</td>\n",
       "      <td>0.299320</td>\n",
       "      <td>0.385001</td>\n",
       "      <td>NaN</td>\n",
       "      <td>NaN</td>\n",
       "      <td>NaN</td>\n",
       "      <td>0.406679</td>\n",
       "      <td>0.417031</td>\n",
       "      <td>0.429531</td>\n",
       "    </tr>\n",
       "    <tr>\n",
       "      <th>4</th>\n",
       "      <td>7888</td>\n",
       "      <td>7888</td>\n",
       "      <td>doi:10.4232/1.14055</td>\n",
       "      <td>1.0.0 (2022-12-21)</td>\n",
       "      <td>1</td>\n",
       "      <td>973</td>\n",
       "      <td>27</td>\n",
       "      <td>5</td>\n",
       "      <td>20000005</td>\n",
       "      <td>2</td>\n",
       "      <td>...</td>\n",
       "      <td>NaN</td>\n",
       "      <td>0.677808</td>\n",
       "      <td>0.224285</td>\n",
       "      <td>0.288488</td>\n",
       "      <td>NaN</td>\n",
       "      <td>NaN</td>\n",
       "      <td>NaN</td>\n",
       "      <td>0.304731</td>\n",
       "      <td>0.312488</td>\n",
       "      <td>0.321855</td>\n",
       "    </tr>\n",
       "  </tbody>\n",
       "</table>\n",
       "<p>5 rows × 501 columns</p>\n",
       "</div>"
      ],
      "text/plain": [
       "   studyno1  studyno2                  doi             version  edition  \\\n",
       "0      7888      7888  doi:10.4232/1.14055  1.0.0 (2022-12-21)        1   \n",
       "1      7888      7888  doi:10.4232/1.14055  1.0.0 (2022-12-21)        1   \n",
       "2      7888      7888  doi:10.4232/1.14055  1.0.0 (2022-12-21)        1   \n",
       "3      7888      7888  doi:10.4232/1.14055  1.0.0 (2022-12-21)        1   \n",
       "4      7888      7888  doi:10.4232/1.14055  1.0.0 (2022-12-21)        1   \n",
       "\n",
       "   survey  respondent_serial  serialid    uniqid  tnscntry  ...  w9       w10  \\\n",
       "0     973                  6         1  20000001         2  ... NaN  0.830778   \n",
       "1     973                 12         2  20000002         2  ... NaN  0.830519   \n",
       "2     973                 18         3  20000003         2  ... NaN  0.714949   \n",
       "3     973                 23         4  20000004         2  ... NaN  0.904568   \n",
       "4     973                 27         5  20000005         2  ... NaN  0.677808   \n",
       "\n",
       "        w11       w85  w86  w13  w94       w14       w22       w92  \n",
       "0  0.274903  0.353595  NaN  NaN  NaN  0.373504  0.383012  0.394492  \n",
       "1  0.274817  0.353484  NaN  NaN  NaN  0.373387  0.382892  0.394369  \n",
       "2  0.236575  0.304296  NaN  NaN  NaN  0.321429  0.329612  0.339491  \n",
       "3  0.299320  0.385001  NaN  NaN  NaN  0.406679  0.417031  0.429531  \n",
       "4  0.224285  0.288488  NaN  NaN  NaN  0.304731  0.312488  0.321855  \n",
       "\n",
       "[5 rows x 501 columns]"
      ]
     },
     "execution_count": 2,
     "metadata": {},
     "output_type": "execute_result"
    }
   ],
   "source": [
    "df = pd.read_csv('data/output.csv')\n",
    "df.head()"
   ]
  },
  {
   "cell_type": "code",
   "execution_count": 3,
   "id": "f3eebf49",
   "metadata": {},
   "outputs": [
    {
     "data": {
      "text/plain": [
       "(26569, 501)"
      ]
     },
     "execution_count": 3,
     "metadata": {},
     "output_type": "execute_result"
    }
   ],
   "source": [
    "df.shape"
   ]
  },
  {
   "cell_type": "code",
   "execution_count": 4,
   "id": "4d8534a8",
   "metadata": {},
   "outputs": [
    {
     "data": {
      "text/plain": [
       "Index(['studyno1', 'studyno2', 'doi', 'version', 'edition', 'survey',\n",
       "       'respondent_serial', 'serialid', 'uniqid', 'tnscntry',\n",
       "       ...\n",
       "       'w9', 'w10', 'w11', 'w85', 'w86', 'w13', 'w94', 'w14', 'w22', 'w92'],\n",
       "      dtype='object', length=501)"
      ]
     },
     "execution_count": 4,
     "metadata": {},
     "output_type": "execute_result"
    }
   ],
   "source": [
    "df.columns"
   ]
  },
  {
   "cell_type": "markdown",
   "id": "f7165511",
   "metadata": {},
   "source": [
    "qa, d9, d8, d7, d71, qaб, qc, d, s"
   ]
  },
  {
   "cell_type": "markdown",
   "id": "b619c442",
   "metadata": {},
   "source": [
    "qb, d10, d70, p, w"
   ]
  },
  {
   "cell_type": "code",
   "execution_count": null,
   "id": "b99172ff",
   "metadata": {},
   "outputs": [],
   "source": []
  }
 ],
 "metadata": {
  "kernelspec": {
   "display_name": "Python 3",
   "language": "python",
   "name": "python3"
  },
  "language_info": {
   "codemirror_mode": {
    "name": "ipython",
    "version": 3
   },
   "file_extension": ".py",
   "mimetype": "text/x-python",
   "name": "python",
   "nbconvert_exporter": "python",
   "pygments_lexer": "ipython3",
   "version": "3.12.0"
  }
 },
 "nbformat": 4,
 "nbformat_minor": 5
}
